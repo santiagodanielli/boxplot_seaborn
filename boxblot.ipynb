{
 "cells": [
  {
   "cell_type": "code",
   "execution_count": 2,
   "metadata": {},
   "outputs": [
    {
     "data": {
      "text/html": [
       "<div>\n",
       "<style scoped>\n",
       "    .dataframe tbody tr th:only-of-type {\n",
       "        vertical-align: middle;\n",
       "    }\n",
       "\n",
       "    .dataframe tbody tr th {\n",
       "        vertical-align: top;\n",
       "    }\n",
       "\n",
       "    .dataframe thead th {\n",
       "        text-align: right;\n",
       "    }\n",
       "</style>\n",
       "<table border=\"1\" class=\"dataframe\">\n",
       "  <thead>\n",
       "    <tr style=\"text-align: right;\">\n",
       "      <th></th>\n",
       "      <th>temporada</th>\n",
       "      <th>cap_num</th>\n",
       "      <th>cap_letras</th>\n",
       "      <th>puntaje</th>\n",
       "    </tr>\n",
       "  </thead>\n",
       "  <tbody>\n",
       "    <tr>\n",
       "      <th>0</th>\n",
       "      <td>Primer Temporada</td>\n",
       "      <td>1</td>\n",
       "      <td>Winter is Coming</td>\n",
       "      <td>8.9</td>\n",
       "    </tr>\n",
       "    <tr>\n",
       "      <th>1</th>\n",
       "      <td>Primer Temporada</td>\n",
       "      <td>2</td>\n",
       "      <td>The Kingsroad</td>\n",
       "      <td>8.6</td>\n",
       "    </tr>\n",
       "    <tr>\n",
       "      <th>2</th>\n",
       "      <td>Primer Temporada</td>\n",
       "      <td>3</td>\n",
       "      <td>Lord Snow</td>\n",
       "      <td>8.5</td>\n",
       "    </tr>\n",
       "    <tr>\n",
       "      <th>3</th>\n",
       "      <td>Primer Temporada</td>\n",
       "      <td>4</td>\n",
       "      <td>Cripples. Bastards and Broken Things</td>\n",
       "      <td>8.6</td>\n",
       "    </tr>\n",
       "    <tr>\n",
       "      <th>4</th>\n",
       "      <td>Primer Temporada</td>\n",
       "      <td>5</td>\n",
       "      <td>The Wolf and the Lion</td>\n",
       "      <td>9.0</td>\n",
       "    </tr>\n",
       "    <tr>\n",
       "      <th>5</th>\n",
       "      <td>Primer Temporada</td>\n",
       "      <td>6</td>\n",
       "      <td>A Golden Crown</td>\n",
       "      <td>9.1</td>\n",
       "    </tr>\n",
       "    <tr>\n",
       "      <th>6</th>\n",
       "      <td>Primer Temporada</td>\n",
       "      <td>7</td>\n",
       "      <td>You Win or You Die</td>\n",
       "      <td>9.1</td>\n",
       "    </tr>\n",
       "    <tr>\n",
       "      <th>7</th>\n",
       "      <td>Primer Temporada</td>\n",
       "      <td>8</td>\n",
       "      <td>The Pointy End</td>\n",
       "      <td>8.9</td>\n",
       "    </tr>\n",
       "    <tr>\n",
       "      <th>8</th>\n",
       "      <td>Primer Temporada</td>\n",
       "      <td>9</td>\n",
       "      <td>Baelor</td>\n",
       "      <td>9.6</td>\n",
       "    </tr>\n",
       "    <tr>\n",
       "      <th>9</th>\n",
       "      <td>Primer Temporada</td>\n",
       "      <td>10</td>\n",
       "      <td>Fire and Blood</td>\n",
       "      <td>9.4</td>\n",
       "    </tr>\n",
       "    <tr>\n",
       "      <th>10</th>\n",
       "      <td>Ultima Temporada</td>\n",
       "      <td>1</td>\n",
       "      <td>Winterfell</td>\n",
       "      <td>7.6</td>\n",
       "    </tr>\n",
       "    <tr>\n",
       "      <th>11</th>\n",
       "      <td>Ultima Temporada</td>\n",
       "      <td>2</td>\n",
       "      <td>A Knight of the Seven Kingdoms</td>\n",
       "      <td>7.9</td>\n",
       "    </tr>\n",
       "    <tr>\n",
       "      <th>12</th>\n",
       "      <td>Ultima Temporada</td>\n",
       "      <td>3</td>\n",
       "      <td>The Long Night</td>\n",
       "      <td>7.5</td>\n",
       "    </tr>\n",
       "    <tr>\n",
       "      <th>13</th>\n",
       "      <td>Ultima Temporada</td>\n",
       "      <td>4</td>\n",
       "      <td>The Last of the Starks</td>\n",
       "      <td>5.5</td>\n",
       "    </tr>\n",
       "    <tr>\n",
       "      <th>14</th>\n",
       "      <td>Ultima Temporada</td>\n",
       "      <td>5</td>\n",
       "      <td>The Bells</td>\n",
       "      <td>6.0</td>\n",
       "    </tr>\n",
       "    <tr>\n",
       "      <th>15</th>\n",
       "      <td>Ultima Temporada</td>\n",
       "      <td>6</td>\n",
       "      <td>The Iron Throne</td>\n",
       "      <td>4.0</td>\n",
       "    </tr>\n",
       "  </tbody>\n",
       "</table>\n",
       "</div>"
      ],
      "text/plain": [
       "           temporada  cap_num                            cap_letras  puntaje\n",
       "0   Primer Temporada        1                      Winter is Coming      8.9\n",
       "1   Primer Temporada        2                         The Kingsroad      8.6\n",
       "2   Primer Temporada        3                             Lord Snow      8.5\n",
       "3   Primer Temporada        4  Cripples. Bastards and Broken Things      8.6\n",
       "4   Primer Temporada        5                 The Wolf and the Lion      9.0\n",
       "5   Primer Temporada        6                        A Golden Crown      9.1\n",
       "6   Primer Temporada        7                    You Win or You Die      9.1\n",
       "7   Primer Temporada        8                        The Pointy End      8.9\n",
       "8   Primer Temporada        9                                Baelor      9.6\n",
       "9   Primer Temporada       10                        Fire and Blood      9.4\n",
       "10  Ultima Temporada        1                            Winterfell      7.6\n",
       "11  Ultima Temporada        2        A Knight of the Seven Kingdoms      7.9\n",
       "12  Ultima Temporada        3                        The Long Night      7.5\n",
       "13  Ultima Temporada        4                The Last of the Starks      5.5\n",
       "14  Ultima Temporada        5                             The Bells      6.0\n",
       "15  Ultima Temporada        6                       The Iron Throne      4.0"
      ]
     },
     "execution_count": 2,
     "metadata": {},
     "output_type": "execute_result"
    }
   ],
   "source": [
    "import pandas as pd\n",
    "import seaborn as sns\n",
    "\n",
    "df = pd.read_excel(\"got_puntajes.xlsx\")\n",
    "\n",
    "df"
   ]
  },
  {
   "cell_type": "code",
   "execution_count": 3,
   "metadata": {},
   "outputs": [
    {
     "data": {
      "text/plain": [
       "<Axes: ylabel='puntaje'>"
      ]
     },
     "execution_count": 3,
     "metadata": {},
     "output_type": "execute_result"
    },
    {
     "data": {
      "image/png": "[encoded data removed]",
      "text/plain": [
       "<Figure size 640x480 with 1 Axes>"
      ]
     },
     "metadata": {},
     "output_type": "display_data"
    }
   ],
   "source": [
    "sns.boxplot(data=df, y=\"puntaje\", hue=\"temporada\")"
   ]
  },
  {
   "cell_type": "code",
   "execution_count": 5,
   "metadata": {},
   "outputs": [
    {
     "data": {
      "text/plain": [
       "<Axes: xlabel='temporada', ylabel='puntaje'>"
      ]
     },
     "execution_count": 5,
     "metadata": {},
     "output_type": "execute_result"
    },
    {
     "data": {
      "image/png": "[encoded data removed]",
      "text/plain": [
       "<Figure size 640x480 with 1 Axes>"
      ]
     },
     "metadata": {},
     "output_type": "display_data"
    }
   ],
   "source": [
    "sns.boxplot(data=df, x=\"temporada\", y=\"puntaje\", color=\".8\", width=.4,\n",
    "            linecolor=\"#137\", linewidth=.75, legend=\"full\")"
   ]
  }
 ],
 "metadata": {
  "kernelspec": {
   "display_name": "Python 3",
   "language": "python",
   "name": "python3"
  },
  "language_info": {
   "codemirror_mode": {
    "name": "ipython",
    "version": 3
   },
   "file_extension": ".py",
   "mimetype": "text/x-python",
   "name": "python",
   "nbconvert_exporter": "python",
   "pygments_lexer": "ipython3",
   "version": "3.12.1"
  }
 },
 "nbformat": 4,
 "nbformat_minor": 2
}
